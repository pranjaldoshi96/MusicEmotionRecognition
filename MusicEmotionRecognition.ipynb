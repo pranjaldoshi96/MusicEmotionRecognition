{
  "nbformat": 4,
  "nbformat_minor": 0,
  "metadata": {
    "colab": {
      "name": "MusicEmotionRecognition.ipynb",
      "provenance": [],
      "include_colab_link": true
    },
    "kernelspec": {
      "name": "python3",
      "display_name": "Python 3"
    }
  },
  "cells": [
    {
      "cell_type": "markdown",
      "metadata": {
        "id": "view-in-github",
        "colab_type": "text"
      },
      "source": [
        "<a href=\"https://colab.research.google.com/github/pranjaldoshi96/MusicEmotionRecognition/blob/master/MusicEmotionRecognition.ipynb\" target=\"_parent\"><img src=\"https://colab.research.google.com/assets/colab-badge.svg\" alt=\"Open In Colab\"/></a>"
      ]
    },
    {
      "cell_type": "code",
      "metadata": {
        "id": "K3b6YVKZyeRc",
        "colab_type": "code",
        "colab": {
          "base_uri": "https://localhost:8080/",
          "height": 666
        },
        "outputId": "27888868-cc25-4564-ae5c-107e923e0795"
      },
      "source": [
        "pip install tensorflow==1.14"
      ],
      "execution_count": 1,
      "outputs": [
        {
          "output_type": "stream",
          "text": [
            "Collecting tensorflow==1.14\n",
            "\u001b[?25l  Downloading https://files.pythonhosted.org/packages/de/f0/96fb2e0412ae9692dbf400e5b04432885f677ad6241c088ccc5fe7724d69/tensorflow-1.14.0-cp36-cp36m-manylinux1_x86_64.whl (109.2MB)\n",
            "\u001b[K     |████████████████████████████████| 109.2MB 29kB/s \n",
            "\u001b[?25hCollecting tensorflow-estimator<1.15.0rc0,>=1.14.0rc0\n",
            "\u001b[?25l  Downloading https://files.pythonhosted.org/packages/3c/d5/21860a5b11caf0678fbc8319341b0ae21a07156911132e0e71bffed0510d/tensorflow_estimator-1.14.0-py2.py3-none-any.whl (488kB)\n",
            "\u001b[K     |████████████████████████████████| 491kB 33.5MB/s \n",
            "\u001b[?25hRequirement already satisfied: six>=1.10.0 in /usr/local/lib/python3.6/dist-packages (from tensorflow==1.14) (1.12.0)\n",
            "Requirement already satisfied: google-pasta>=0.1.6 in /usr/local/lib/python3.6/dist-packages (from tensorflow==1.14) (0.1.8)\n",
            "Requirement already satisfied: gast>=0.2.0 in /usr/local/lib/python3.6/dist-packages (from tensorflow==1.14) (0.2.2)\n",
            "Requirement already satisfied: keras-applications>=1.0.6 in /usr/local/lib/python3.6/dist-packages (from tensorflow==1.14) (1.0.8)\n",
            "Requirement already satisfied: astor>=0.6.0 in /usr/local/lib/python3.6/dist-packages (from tensorflow==1.14) (0.8.0)\n",
            "Requirement already satisfied: keras-preprocessing>=1.0.5 in /usr/local/lib/python3.6/dist-packages (from tensorflow==1.14) (1.1.0)\n",
            "Requirement already satisfied: wrapt>=1.11.1 in /usr/local/lib/python3.6/dist-packages (from tensorflow==1.14) (1.11.2)\n",
            "Requirement already satisfied: grpcio>=1.8.6 in /usr/local/lib/python3.6/dist-packages (from tensorflow==1.14) (1.15.0)\n",
            "Requirement already satisfied: numpy<2.0,>=1.14.5 in /usr/local/lib/python3.6/dist-packages (from tensorflow==1.14) (1.17.4)\n",
            "Requirement already satisfied: absl-py>=0.7.0 in /usr/local/lib/python3.6/dist-packages (from tensorflow==1.14) (0.8.1)\n",
            "Collecting tensorboard<1.15.0,>=1.14.0\n",
            "\u001b[?25l  Downloading https://files.pythonhosted.org/packages/91/2d/2ed263449a078cd9c8a9ba50ebd50123adf1f8cfbea1492f9084169b89d9/tensorboard-1.14.0-py3-none-any.whl (3.1MB)\n",
            "\u001b[K     |████████████████████████████████| 3.2MB 32.3MB/s \n",
            "\u001b[?25hRequirement already satisfied: termcolor>=1.1.0 in /usr/local/lib/python3.6/dist-packages (from tensorflow==1.14) (1.1.0)\n",
            "Requirement already satisfied: protobuf>=3.6.1 in /usr/local/lib/python3.6/dist-packages (from tensorflow==1.14) (3.10.0)\n",
            "Requirement already satisfied: wheel>=0.26 in /usr/local/lib/python3.6/dist-packages (from tensorflow==1.14) (0.33.6)\n",
            "Requirement already satisfied: h5py in /usr/local/lib/python3.6/dist-packages (from keras-applications>=1.0.6->tensorflow==1.14) (2.8.0)\n",
            "Requirement already satisfied: setuptools>=41.0.0 in /usr/local/lib/python3.6/dist-packages (from tensorboard<1.15.0,>=1.14.0->tensorflow==1.14) (41.6.0)\n",
            "Requirement already satisfied: werkzeug>=0.11.15 in /usr/local/lib/python3.6/dist-packages (from tensorboard<1.15.0,>=1.14.0->tensorflow==1.14) (0.16.0)\n",
            "Requirement already satisfied: markdown>=2.6.8 in /usr/local/lib/python3.6/dist-packages (from tensorboard<1.15.0,>=1.14.0->tensorflow==1.14) (3.1.1)\n",
            "Installing collected packages: tensorflow-estimator, tensorboard, tensorflow\n",
            "  Found existing installation: tensorflow-estimator 1.15.1\n",
            "    Uninstalling tensorflow-estimator-1.15.1:\n",
            "      Successfully uninstalled tensorflow-estimator-1.15.1\n",
            "  Found existing installation: tensorboard 1.15.0\n",
            "    Uninstalling tensorboard-1.15.0:\n",
            "      Successfully uninstalled tensorboard-1.15.0\n",
            "  Found existing installation: tensorflow 1.15.0\n",
            "    Uninstalling tensorflow-1.15.0:\n",
            "      Successfully uninstalled tensorflow-1.15.0\n",
            "Successfully installed tensorboard-1.14.0 tensorflow-1.14.0 tensorflow-estimator-1.14.0\n"
          ],
          "name": "stdout"
        }
      ]
    },
    {
      "cell_type": "code",
      "metadata": {
        "id": "yG-eS4OzzBYb",
        "colab_type": "code",
        "colab": {
          "base_uri": "https://localhost:8080/",
          "height": 326
        },
        "outputId": "df56d14c-e0a3-4fd9-e879-70138b43205f"
      },
      "source": [
        "pip install keras_self_attention"
      ],
      "execution_count": 5,
      "outputs": [
        {
          "output_type": "stream",
          "text": [
            "Collecting keras_self_attention\n",
            "  Downloading https://files.pythonhosted.org/packages/44/3e/eb1a7c7545eede073ceda2f5d78442b6cad33b5b750d7f0742866907c34b/keras-self-attention-0.42.0.tar.gz\n",
            "Requirement already satisfied: numpy in /usr/local/lib/python3.6/dist-packages (from keras_self_attention) (1.17.4)\n",
            "Requirement already satisfied: Keras in /usr/local/lib/python3.6/dist-packages (from keras_self_attention) (2.2.5)\n",
            "Requirement already satisfied: keras-applications>=1.0.8 in /usr/local/lib/python3.6/dist-packages (from Keras->keras_self_attention) (1.0.8)\n",
            "Requirement already satisfied: six>=1.9.0 in /usr/local/lib/python3.6/dist-packages (from Keras->keras_self_attention) (1.12.0)\n",
            "Requirement already satisfied: pyyaml in /usr/local/lib/python3.6/dist-packages (from Keras->keras_self_attention) (3.13)\n",
            "Requirement already satisfied: h5py in /usr/local/lib/python3.6/dist-packages (from Keras->keras_self_attention) (2.8.0)\n",
            "Requirement already satisfied: scipy>=0.14 in /usr/local/lib/python3.6/dist-packages (from Keras->keras_self_attention) (1.3.2)\n",
            "Requirement already satisfied: keras-preprocessing>=1.1.0 in /usr/local/lib/python3.6/dist-packages (from Keras->keras_self_attention) (1.1.0)\n",
            "Building wheels for collected packages: keras-self-attention\n",
            "  Building wheel for keras-self-attention (setup.py) ... \u001b[?25l\u001b[?25hdone\n",
            "  Created wheel for keras-self-attention: filename=keras_self_attention-0.42.0-cp36-none-any.whl size=17296 sha256=a534e9dbe0aa6c6f1f31c7141427336f77682adeaadf76ad63ce5f47f1ced1b3\n",
            "  Stored in directory: /root/.cache/pip/wheels/7b/05/a0/99c0cf60d383f0494e10eca2b238ea98faca9a1fe03cac2894\n",
            "Successfully built keras-self-attention\n",
            "Installing collected packages: keras-self-attention\n",
            "Successfully installed keras-self-attention-0.42.0\n"
          ],
          "name": "stdout"
        }
      ]
    },
    {
      "cell_type": "code",
      "metadata": {
        "id": "TGLZwVCsykf3",
        "colab_type": "code",
        "colab": {}
      },
      "source": [
        "from __future__ import print_function\n",
        "\n",
        "from keras.models import Model\n",
        "from keras.layers import Input, LSTM, Dense\n",
        "from keras.models import Sequential\n",
        "from keras.layers import Dense, Activation\n",
        "from keras import backend as K\n",
        "from keras.models import load_model\n",
        "from keras.callbacks import ModelCheckpoint,EarlyStopping\n",
        "from keras.callbacks import TensorBoard\n",
        "from keras_self_attention import SeqSelfAttention\n",
        "\n",
        "from sklearn.preprocessing import StandardScaler\n",
        "from sklearn.preprocessing import normalize\n",
        "from sklearn.model_selection import train_test_split\n",
        "from sklearn.model_selection import StratifiedKFold, KFold\n",
        "\n",
        "import matplotlib.pyplot as plt\n",
        "from scipy import stats\n",
        "import numpy as np\n",
        "import pandas as pd\n",
        "import pickle\n"
      ],
      "execution_count": 0,
      "outputs": []
    },
    {
      "cell_type": "code",
      "metadata": {
        "id": "Yrd6FkUdzROL",
        "colab_type": "code",
        "colab": {}
      },
      "source": [
        "def R2(y_true, y_pred):\n",
        "    from keras import backend as K\n",
        "    SS_res =  K.sum(K.square( y_true-y_pred ))\n",
        "    SS_tot = K.sum(K.square( y_true - K.mean(y_true) ) )\n",
        "    return ( 1 - SS_res/(SS_tot + K.epsilon()) )\n",
        "\n",
        "def Kendalltau(y_true,y_pred):\n",
        "    return stats.kendalltau(y_true, y_pred,nan_policy='omit')\n",
        "\n",
        "def build_model(input_shape,output_dim,return_sequences=True):\n",
        "    model = Sequential()\n",
        "    model.add(LSTM(input_shape=input_shape,output_dim=300,return_sequences=return_sequences))\n",
        "    model.add(LSTM(input_shape=input_shape,output_dim=128,return_sequences=return_sequences))\n",
        "    model.add(SeqSelfAttention(attention_activation='sigmoid',units=128))\n",
        "    model.add(LSTM(input_dim=128,output_dim=1,return_sequences=True))\n",
        "    model.add(Activation(\"linear\"))\n",
        "    model.compile(loss=\"mse\", optimizer=\"rmsprop\",metrics=[R2,'mae',Kendalltau])\n",
        "    return model\n",
        "\n"
      ],
      "execution_count": 0,
      "outputs": []
    },
    {
      "cell_type": "code",
      "metadata": {
        "id": "gCuLrF1Tz1HE",
        "colab_type": "code",
        "colab": {}
      },
      "source": [
        "def train_and_evaluate(model,X_train,y_train,X_test,y_test):\n",
        "    checkpoint = ModelCheckpoint(filepath='./models/attention_valence_std_norm/checkpoint-{epoch:02d}-{val_loss:.2f}.hdf5', monitor='val_loss', verbose=1, save_best_only=True)\n",
        "    earlystopping = EarlyStopping(monitor='val_loss', min_delta=0.0006, patience=3, verbose=1,restore_best_weights=False)\n",
        "    tensorboard = TensorBoard(log_dir='./all_logs/attention_valence_std_norm', write_graph=True)\n",
        "    history = model.fit(X_train,\n",
        "                y_train,\n",
        "                batch_size=20,\n",
        "                epochs=50,\n",
        "                validation_split=0.05)#,callbacks=[checkpoint,tensorboard])\n",
        "    result = model.evaluate(X_test,y_test)\n",
        "    print(\"-----------------Result----------------\")\n",
        "    print(result)\n",
        "    prediction = model.predict(X_test)\n",
        "    corr_avg = 0\n",
        "    for i in range(len(prediction)):\n",
        "        oned_pred = prediction[i].flatten()\n",
        "        oned_label = y_test[i].flatten()\n",
        "        corr,pre = Kendalltau(oned_pred,oned_label)\n",
        "        corr_avg += corr\n",
        "    corr_avg = corr_avg / len(prediction)\n",
        "    print(\"Kendall cofficient : \",corr_avg)\n"
      ],
      "execution_count": 0,
      "outputs": []
    },
    {
      "cell_type": "code",
      "metadata": {
        "id": "1vJa0bK70Fmt",
        "colab_type": "code",
        "colab": {}
      },
      "source": [
        "print('loading data ...')\n",
        "with open('features.pkl', 'rb') as in_:\n",
        "    feat = pickle.load(in_)\n",
        "print('Data loaded... Shape : ',feat.shape)\n",
        "features_without_time = feat[:,:,1:]\n",
        "\n",
        "print(\"Reading arousal label\")\n",
        "arousal_label  = np.loadtxt('../annotations/arousal_cont_average.csv',delimiter=',',skiprows=1).astype(float)\n",
        "# valence_label  = np.loadtxt('../annotations/valence_cont_average.csv',delimiter=',',skiprows=1).astype(float)\n",
        "\n",
        "#Removing Song Label from data\n",
        "arousal_label = arousal_label[:,1:]\n",
        "# valence_label = valence_label[:,1:]\n",
        "\n",
        "#Reshaping for Input to LSTM\n",
        "arousal_label = arousal_label[:, :, None]\n",
        "# valence_label = valence_label[:, :, None]\n",
        "\n",
        "label_count = feat.shape[0]\n",
        "sequence_len = feat.shape[1]\n",
        "features_count = feat.shape[2]\n",
        "feat = feat.reshape(label_count,features_count * sequence_len)\n",
        "feat = StandardScaler().fit_transform(feat)\n",
        "#feat = normalize(feat, axis=0, norm='max')\n",
        "feat = feat.reshape(label_count,sequence_len,features_count)\n",
        "\n",
        "#output = np.c_[arousal_label,valence_label]\n",
        "#print(feat.shape,output.shape)\n",
        "\n",
        "#Train Test split\n",
        "\n",
        "train_data, test_data, train_label, test_label = train_test_split(\n",
        "    feat, arousal_label, test_size=0.10)\n"
      ],
      "execution_count": 0,
      "outputs": []
    },
    {
      "cell_type": "code",
      "metadata": {
        "id": "3o49mQOX01Wk",
        "colab_type": "code",
        "colab": {}
      },
      "source": [
        "label_count = train_data.shape[0]\n",
        "sequence_len = train_data.shape[1]\n",
        "features_count = train_data.shape[2]\n",
        "\n",
        "input_shape = (sequence_len,features_count)\n",
        "output_dim = 2\n",
        "print(input_shape,output_dim)\n"
      ],
      "execution_count": 0,
      "outputs": []
    },
    {
      "cell_type": "code",
      "metadata": {
        "id": "seCzNmlP09Ww",
        "colab_type": "code",
        "colab": {}
      },
      "source": [
        "kfolds = KFold(n_splits=10, shuffle=True, random_state=2645312378)\n",
        "\n",
        "train_data = train_data.reshape(train_data.shape[0],features_count * sequence_len)\n",
        "train_label = train_label.reshape(train_label.shape[0],sequence_len)\n",
        "\n",
        "sanga_counter = 1\n",
        "\n",
        "for train_index, test_index in kfolds.split(train_data, train_label):\n",
        "\n",
        "    print(\"\\n\\n ------------------------------------------------------  \", sanga_counter, \"----------------------------------------------- \\n\\n\")\n",
        "    sanga_counter = sanga_counter + 1\n",
        "    X_train, X_test = train_data[train_index], train_data[test_index]\n",
        "    y_train, y_test = train_label[train_index], train_label[test_index]\n",
        "    X_train, X_test = X_train.reshape(X_train.shape[0],sequence_len,features_count), X_test.reshape(X_test.shape[0],sequence_len,features_count)\n",
        "    y_train, y_test = y_train[:, :, None], y_test[:, :, None]\n",
        "\n",
        "\n",
        "    print(X_train.shape,y_train.shape,X_test.shape,y_test.shape)\n",
        "    model = None\n",
        "    model = build_model(input_shape,output_dim)\n",
        "    train_and_evaluate(model,X_train,y_train,X_test,y_test)\n",
        "    result = model.evaluate(test_data,test_label)\n",
        "    print(\"-----------------Final Result----------------\")\n",
        "    print(\"---------------------------------------------\")\n",
        "    print(result)\n",
        "    prediction = model.predict(test_data)\n",
        "    corr_avg = 0\n",
        "    for i in range(len(prediction)):\n",
        "        oned_pred = prediction[i].flatten()\n",
        "        oned_label = test_label[i].flatten()\n",
        "        corr,pre = Kendalltau(oned_pred,oned_label)\n",
        "        corr_avg += corr\n",
        "    corr_avg = corr_avg / len(prediction)\n",
        "    print(\"Kendall cofficient : \",corr_avg)\n",
        "    print(\"---------------------------------------------\")\n",
        "    print(\"---------------------------------------------\")"
      ],
      "execution_count": 0,
      "outputs": []
    },
    {
      "cell_type": "code",
      "metadata": {
        "id": "ebMR4jMs0-1v",
        "colab_type": "code",
        "colab": {}
      },
      "source": [
        ""
      ],
      "execution_count": 0,
      "outputs": []
    }
  ]
}